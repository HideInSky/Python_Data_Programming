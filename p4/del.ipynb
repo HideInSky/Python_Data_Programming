{
 "cells": [
  {
   "cell_type": "code",
   "execution_count": 1,
   "metadata": {},
   "outputs": [],
   "source": [
    "import pandas as pd\n",
    "f=pd.read_csv(\"spotify.csv\")\n",
    "\n",
    "# keep_col = ['day','month','lat','long']\n",
    "# new_f = f[keep_col]\n",
    "# new_f.to_csv(\"newFile.csv\", index=False)"
   ]
  },
  {
   "cell_type": "code",
   "execution_count": 2,
   "metadata": {},
   "outputs": [
    {
     "data": {
      "text/plain": [
       "['id',\n",
       " 'artist_name',\n",
       " 'track_name',\n",
       " 'popularity',\n",
       " 'danceability',\n",
       " 'energy',\n",
       " 'duration_ms']"
      ]
     },
     "execution_count": 2,
     "metadata": {},
     "output_type": "execute_result"
    }
   ],
   "source": [
    "str = \"id,artist_name,track_name,popularity,danceability,energy,duration_ms\"\n",
    "str2 = str.split(\",\")\n",
    "str2"
   ]
  },
  {
   "cell_type": "code",
   "execution_count": 3,
   "metadata": {},
   "outputs": [],
   "source": [
    "newf = f[str2]\n",
    "newf.to_csv(\"spotify2.csv\", index=False)"
   ]
  }
 ],
 "metadata": {
  "interpreter": {
   "hash": "62ac97660090502b2ab088b12db6cd8c767d855495a362cd45946b4cf12b4192"
  },
  "kernelspec": {
   "display_name": "Python 3.9.10 64-bit",
   "language": "python",
   "name": "python3"
  },
  "language_info": {
   "codemirror_mode": {
    "name": "ipython",
    "version": 3
   },
   "file_extension": ".py",
   "mimetype": "text/x-python",
   "name": "python",
   "nbconvert_exporter": "python",
   "pygments_lexer": "ipython3",
   "version": "3.9.10"
  },
  "orig_nbformat": 4
 },
 "nbformat": 4,
 "nbformat_minor": 2
}
