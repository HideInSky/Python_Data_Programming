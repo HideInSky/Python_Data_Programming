{
 "cells": [
  {
   "cell_type": "code",
   "execution_count": 9,
   "metadata": {},
   "outputs": [],
   "source": [
    "import pandas as pd\n",
    "f=pd.read_csv(\"spotify.csv\")\n",
    "cols = list(f.columns)[1:]\n",
    "\n",
    "new_f = f[cols]\n",
    "new_f.to_csv(\"main.csv\", index=False)"
   ]
  },
  {
   "cell_type": "code",
   "execution_count": 14,
   "metadata": {},
   "outputs": [
    {
     "data": {
      "text/plain": [
       "1"
      ]
     },
     "execution_count": 14,
     "metadata": {},
     "output_type": "execute_result"
    }
   ],
   "source": [
    "with open(\"1.txt\", \"a\") as f:\n",
    "    f.write(\"1@wisc.edu\\n\")\n",
    "with open(\"1.txt\", \"r\") as f:\n",
    "    num = f.readlines()\n",
    "len(num)"
   ]
  }
 ],
 "metadata": {
  "interpreter": {
   "hash": "62ac97660090502b2ab088b12db6cd8c767d855495a362cd45946b4cf12b4192"
  },
  "kernelspec": {
   "display_name": "Python 3.9.10 64-bit",
   "language": "python",
   "name": "python3"
  },
  "language_info": {
   "codemirror_mode": {
    "name": "ipython",
    "version": 3
   },
   "file_extension": ".py",
   "mimetype": "text/x-python",
   "name": "python",
   "nbconvert_exporter": "python",
   "pygments_lexer": "ipython3",
   "version": "3.9.10"
  },
  "orig_nbformat": 4
 },
 "nbformat": 4,
 "nbformat_minor": 2
}
